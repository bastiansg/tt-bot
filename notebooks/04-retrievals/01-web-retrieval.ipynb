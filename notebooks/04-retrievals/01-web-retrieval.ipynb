{
 "cells": [
  {
   "cell_type": "code",
   "execution_count": null,
   "metadata": {},
   "outputs": [],
   "source": [
    "import os\n",
    "\n",
    "os.environ[\"LOG_LEVEL\"] = \"debug\""
   ]
  },
  {
   "cell_type": "code",
   "execution_count": null,
   "metadata": {},
   "outputs": [],
   "source": [
    "from tt_bot.retrievals import WebRetrieval\n",
    "from tt_bot.search_engines import GoogleSearchEngine\n",
    "from tt_bot.text_encoders import OpenAIEncoder\n",
    "from tt_bot.web_extractors import (\n",
    "    HTMLExtractor,\n",
    "    WikiExtractor,\n",
    "    LinkedinExtractor,\n",
    ")\n",
    "\n",
    "from tt_bot.logger import get_logger\n",
    "from tt_bot.utils.json_data import get_pretty"
   ]
  },
  {
   "cell_type": "code",
   "execution_count": null,
   "metadata": {},
   "outputs": [],
   "source": [
    "logger = get_logger(__name__)"
   ]
  },
  {
   "cell_type": "code",
   "execution_count": null,
   "metadata": {},
   "outputs": [],
   "source": [
    "search_engine = GoogleSearchEngine()\n",
    "text_encoder = OpenAIEncoder()\n",
    "extractors = {\n",
    "    \"html\": HTMLExtractor(),\n",
    "    \"wikipedia\": WikiExtractor(),\n",
    "    \"linkedin\": LinkedinExtractor(),\n",
    "}\n",
    "\n",
    "web_retrieval = WebRetrieval(\n",
    "    search_engine=search_engine,\n",
    "    text_encoder=text_encoder,\n",
    "    extractors=extractors,\n",
    ")"
   ]
  },
  {
   "cell_type": "code",
   "execution_count": null,
   "metadata": {},
   "outputs": [],
   "source": [
    "query_text = \"who is Julián Ansaldo?\"\n",
    "retrieval_responses = await web_retrieval.retrieve(query_text=query_text)\n",
    "logger.info(get_pretty(list(map(dict, retrieval_responses))))"
   ]
  }
 ],
 "metadata": {
  "kernelspec": {
   "display_name": "Python 3",
   "language": "python",
   "name": "python3"
  },
  "language_info": {
   "codemirror_mode": {
    "name": "ipython",
    "version": 3
   },
   "file_extension": ".py",
   "mimetype": "text/x-python",
   "name": "python",
   "nbconvert_exporter": "python",
   "pygments_lexer": "ipython3",
   "version": "3.11.undefined"
  },
  "orig_nbformat": 4
 },
 "nbformat": 4,
 "nbformat_minor": 2
}
