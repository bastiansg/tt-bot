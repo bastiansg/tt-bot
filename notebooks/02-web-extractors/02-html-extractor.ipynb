{
 "cells": [
  {
   "cell_type": "code",
   "execution_count": null,
   "metadata": {},
   "outputs": [],
   "source": [
    "from tt_bot.web_extractors import HTMLExtractor\n",
    "from tt_bot.search_engines import GoogleSearchEngine\n",
    "\n",
    "from tt_bot.logger import get_logger\n",
    "from tt_bot.utils.json_data import get_pretty\n"
   ]
  },
  {
   "cell_type": "code",
   "execution_count": null,
   "metadata": {},
   "outputs": [],
   "source": [
    "logger = get_logger(__name__)\n"
   ]
  },
  {
   "cell_type": "code",
   "execution_count": null,
   "metadata": {},
   "outputs": [],
   "source": [
    "search_engine = GoogleSearchEngine()\n",
    "html_extractor = HTMLExtractor()\n"
   ]
  },
  {
   "cell_type": "code",
   "execution_count": null,
   "metadata": {},
   "outputs": [],
   "source": [
    "search_results = search_engine.search(\"Dolar Blue\")\n",
    "text_chunks = await html_extractor.extract_search_results(search_results)\n",
    "logger.info(get_pretty(list(map(dict, text_chunks))))"
   ]
  }
 ],
 "metadata": {
  "kernelspec": {
   "display_name": "Python 3",
   "language": "python",
   "name": "python3"
  },
  "language_info": {
   "codemirror_mode": {
    "name": "ipython",
    "version": 3
   },
   "file_extension": ".py",
   "mimetype": "text/x-python",
   "name": "python",
   "nbconvert_exporter": "python",
   "pygments_lexer": "ipython3",
   "version": "3.11.4"
  },
  "orig_nbformat": 4
 },
 "nbformat": 4,
 "nbformat_minor": 2
}
