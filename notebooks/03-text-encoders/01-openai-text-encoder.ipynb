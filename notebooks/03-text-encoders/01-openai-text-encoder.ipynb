{
 "cells": [
  {
   "cell_type": "code",
   "execution_count": null,
   "metadata": {},
   "outputs": [],
   "source": [
    "from tt_bot.text_encoders import OpenAIEncoder\n",
    "from tt_bot.web_extractors import WikiExtractor\n",
    "from tt_bot.search_engines import GoogleSearchEngine\n"
   ]
  },
  {
   "cell_type": "code",
   "execution_count": null,
   "metadata": {},
   "outputs": [],
   "source": [
    "search_engine = GoogleSearchEngine()\n",
    "wiki_extractor = WikiExtractor()\n",
    "text_encoder = OpenAIEncoder()\n"
   ]
  },
  {
   "cell_type": "code",
   "execution_count": null,
   "metadata": {},
   "outputs": [],
   "source": [
    "search_results = search_engine.search(\"Nikola Tesla\")\n",
    "wikipedia_results = [result for result in search_results if result.wikipedia]\n",
    "text_chunks = await wiki_extractor.extract_search_results(wikipedia_results)\n"
   ]
  },
  {
   "cell_type": "code",
   "execution_count": null,
   "metadata": {},
   "outputs": [],
   "source": [
    "print(f\"text_chunks => {len(text_chunks)}\")\n",
    "vectors = text_encoder.encode(text_chunks)\n",
    "vectors.shape"
   ]
  }
 ],
 "metadata": {
  "kernelspec": {
   "display_name": "Python 3",
   "language": "python",
   "name": "python3"
  },
  "language_info": {
   "codemirror_mode": {
    "name": "ipython",
    "version": 3
   },
   "file_extension": ".py",
   "mimetype": "text/x-python",
   "name": "python",
   "nbconvert_exporter": "python",
   "pygments_lexer": "ipython3",
   "version": "3.11.4"
  },
  "orig_nbformat": 4
 },
 "nbformat": 4,
 "nbformat_minor": 2
}
