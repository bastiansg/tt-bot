{
 "cells": [
  {
   "cell_type": "code",
   "execution_count": null,
   "metadata": {},
   "outputs": [],
   "source": [
    "# import os\n",
    "\n",
    "# os.environ[\"LOG_LEVEL\"] = \"debug\"\n"
   ]
  },
  {
   "cell_type": "code",
   "execution_count": null,
   "metadata": {},
   "outputs": [],
   "source": [
    "from more_itertools import flatten\n",
    "\n",
    "from tt_bot.retrievals import WebRetrieval\n",
    "from tt_bot.search_engines import GoogleSearchEngine\n",
    "from tt_bot.text_encoders import OpenAIEncoder\n",
    "from tt_bot.llm_components import LgChainQA\n",
    "from tt_bot.web_extractors import HTMLExtractor, WikiExtractor\n",
    "\n",
    "from tt_bot.logger import get_logger\n",
    "from tt_bot.utils.json_data import get_pretty\n"
   ]
  },
  {
   "cell_type": "code",
   "execution_count": null,
   "metadata": {},
   "outputs": [],
   "source": [
    "logger = get_logger(__name__)\n"
   ]
  },
  {
   "cell_type": "code",
   "execution_count": null,
   "metadata": {},
   "outputs": [],
   "source": [
    "openai_qa = LgChainQA()\n",
    "search_engine = GoogleSearchEngine()\n",
    "text_encoder = OpenAIEncoder()\n",
    "extractors = {\n",
    "    \"html\": HTMLExtractor(),\n",
    "    \"wikipedia\": WikiExtractor(),\n",
    "}\n",
    "\n",
    "web_retrieval = WebRetrieval(\n",
    "    search_engine=search_engine,\n",
    "    text_encoder=text_encoder,\n",
    "    extractors=extractors,\n",
    ")\n"
   ]
  },
  {
   "cell_type": "code",
   "execution_count": null,
   "metadata": {},
   "outputs": [],
   "source": [
    "query_text = \"Quien es Lionel Messi?\"\n",
    "retrieval_responses = await web_retrieval.retrieve(query_text=query_text)\n",
    "\n",
    "text_chunks = (rr.texts for rr in retrieval_responses)\n",
    "text_chunks = list(flatten(text_chunks))\n",
    "\n",
    "qa_answer = await openai_qa.async_generate(text_chunks, query_text)\n",
    "logger.info(get_pretty(qa_answer.dict()))\n"
   ]
  }
 ],
 "metadata": {
  "kernelspec": {
   "display_name": "Python 3",
   "language": "python",
   "name": "python3"
  },
  "language_info": {
   "codemirror_mode": {
    "name": "ipython",
    "version": 3
   },
   "file_extension": ".py",
   "mimetype": "text/x-python",
   "name": "python",
   "nbconvert_exporter": "python",
   "pygments_lexer": "ipython3",
   "version": "3.11.4"
  },
  "orig_nbformat": 4
 },
 "nbformat": 4,
 "nbformat_minor": 2
}
