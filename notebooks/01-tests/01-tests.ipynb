{
 "cells": [
  {
   "cell_type": "code",
   "execution_count": null,
   "id": "344f163c-c868-49cb-86de-c95df97bfae1",
   "metadata": {
    "tags": []
   },
   "outputs": [],
   "source": [
    "from tt_bot.retrievals import LLMRetrieval"
   ]
  },
  {
   "cell_type": "code",
   "execution_count": null,
   "id": "31d1f435-95ac-4c28-a977-47f5b6549e46",
   "metadata": {
    "tags": []
   },
   "outputs": [],
   "source": [
    "retrieval = LLMRetrieval()"
   ]
  },
  {
   "cell_type": "code",
   "execution_count": null,
   "id": "f5ff29bf-dff1-4b55-82f3-e1b850737e1d",
   "metadata": {
    "tags": []
   },
   "outputs": [],
   "source": [
    "query_text = \"que pasa si tomo cianuro?\"\n",
    "response = await retrieval.retrieve(query_text)\n",
    "response"
   ]
  },
  {
   "cell_type": "code",
   "execution_count": null,
   "id": "4be01e1f-fb8b-436c-8d6a-96c030ff6b44",
   "metadata": {},
   "outputs": [],
   "source": []
  }
 ],
 "metadata": {
  "kernelspec": {
   "display_name": "Python 3 (ipykernel)",
   "language": "python",
   "name": "python3"
  },
  "language_info": {
   "codemirror_mode": {
    "name": "ipython",
    "version": 3
   },
   "file_extension": ".py",
   "mimetype": "text/x-python",
   "name": "python",
   "nbconvert_exporter": "python",
   "pygments_lexer": "ipython3",
   "version": "3.11.2"
  }
 },
 "nbformat": 4,
 "nbformat_minor": 5
}
