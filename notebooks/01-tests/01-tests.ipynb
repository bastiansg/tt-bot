{
 "cells": [
  {
   "cell_type": "code",
   "execution_count": null,
   "id": "344f163c-c868-49cb-86de-c95df97bfae1",
   "metadata": {
    "tags": []
   },
   "outputs": [],
   "source": [
    "from tt_bot.search_engine import SearchEngine\n",
    "from tt_bot.text_encoders import OpenAIEncoder"
   ]
  },
  {
   "cell_type": "code",
   "execution_count": null,
   "id": "82e9bfc9-9336-4bdf-aee6-88433d26adc6",
   "metadata": {
    "tags": []
   },
   "outputs": [],
   "source": [
    "search_engine = SearchEngine()"
   ]
  },
  {
   "cell_type": "code",
   "execution_count": null,
   "id": "ed77ebb1-85ee-4733-9bb9-c3e10c868c2c",
   "metadata": {
    "tags": []
   },
   "outputs": [],
   "source": [
    "await search_engine.search(\"Quien ganó en las elecciones de la Rioja?\")"
   ]
  },
  {
   "cell_type": "code",
   "execution_count": null,
   "id": "7ff3cd2e-df11-4073-87f2-56f249bedeb4",
   "metadata": {
    "tags": []
   },
   "outputs": [],
   "source": [
    "text_encoder = OpenAIEncoder()"
   ]
  },
  {
   "cell_type": "code",
   "execution_count": null,
   "id": "55a80234-efb1-4ae4-acce-24465313beb2",
   "metadata": {
    "tags": []
   },
   "outputs": [],
   "source": [
    "text_encoder.batch_encode([\"hello this is a\", \"test\"], contexts=[])"
   ]
  }
 ],
 "metadata": {
  "kernelspec": {
   "display_name": "Python 3 (ipykernel)",
   "language": "python",
   "name": "python3"
  },
  "language_info": {
   "codemirror_mode": {
    "name": "ipython",
    "version": 3
   },
   "file_extension": ".py",
   "mimetype": "text/x-python",
   "name": "python",
   "nbconvert_exporter": "python",
   "pygments_lexer": "ipython3",
   "version": "3.11.2"
  }
 },
 "nbformat": 4,
 "nbformat_minor": 5
}
