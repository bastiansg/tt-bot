{
 "cells": [
  {
   "cell_type": "code",
   "execution_count": null,
   "id": "344f163c-c868-49cb-86de-c95df97bfae1",
   "metadata": {
    "tags": []
   },
   "outputs": [],
   "source": [
    "from tt_bot.qa import DocQA\n",
    "from tt_bot.retrieval import Retrieval\n",
    "\n",
    "from tt_bot.utils.json_data import get_pretty"
   ]
  },
  {
   "cell_type": "code",
   "execution_count": null,
   "id": "31d1f435-95ac-4c28-a977-47f5b6549e46",
   "metadata": {
    "tags": []
   },
   "outputs": [],
   "source": [
    "doc_qa = DocQA()\n",
    "retrieval = Retrieval()"
   ]
  },
  {
   "cell_type": "code",
   "execution_count": null,
   "id": "f5ff29bf-dff1-4b55-82f3-e1b850737e1d",
   "metadata": {
    "tags": []
   },
   "outputs": [],
   "source": [
    "query_text = \"Quien es Lionel Chamorro?\"\n",
    "sim_chunks = await retrieval.retrieve(query_text)\n",
    "response = doc_qa.get_answer(\n",
    "    sim_chunks=sim_chunks,\n",
    "    query_text=query_text\n",
    ")\n",
    "\n",
    "print(get_pretty(response))"
   ]
  }
 ],
 "metadata": {
  "kernelspec": {
   "display_name": "Python 3 (ipykernel)",
   "language": "python",
   "name": "python3"
  },
  "language_info": {
   "codemirror_mode": {
    "name": "ipython",
    "version": 3
   },
   "file_extension": ".py",
   "mimetype": "text/x-python",
   "name": "python",
   "nbconvert_exporter": "python",
   "pygments_lexer": "ipython3",
   "version": "3.11.2"
  }
 },
 "nbformat": 4,
 "nbformat_minor": 5
}
