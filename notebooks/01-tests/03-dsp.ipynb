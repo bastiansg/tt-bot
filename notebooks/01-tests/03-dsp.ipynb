{
 "cells": [
  {
   "cell_type": "code",
   "execution_count": null,
   "id": "4184dd2a-fe95-452d-ada8-ff642bf4eecf",
   "metadata": {
    "tags": []
   },
   "outputs": [],
   "source": [
    "from tt_bot.dsp import DSP"
   ]
  },
  {
   "cell_type": "code",
   "execution_count": null,
   "id": "958b785e-b87b-421f-8692-a9390125b53f",
   "metadata": {
    "tags": []
   },
   "outputs": [],
   "source": [
    "dsp = DSP()"
   ]
  },
  {
   "cell_type": "code",
   "execution_count": null,
   "id": "85459e35-efa9-4cee-8587-722d23250ad2",
   "metadata": {
    "tags": []
   },
   "outputs": [],
   "source": [
    "dsp.start_rand_inv()"
   ]
  },
  {
   "cell_type": "code",
   "execution_count": null,
   "id": "6c8f6971-d33d-4d4b-aa08-dbd2d54d4634",
   "metadata": {
    "tags": []
   },
   "outputs": [],
   "source": [
    "dsp.stop_rand_inv()"
   ]
  },
  {
   "cell_type": "code",
   "execution_count": null,
   "id": "b40f0d45-f0dc-4561-b1ee-74e40bc99d4d",
   "metadata": {
    "tags": []
   },
   "outputs": [],
   "source": [
    "dsp.start_intermittent()"
   ]
  },
  {
   "cell_type": "code",
   "execution_count": null,
   "id": "092f6119-799b-403b-afdc-138cd50637c1",
   "metadata": {
    "tags": []
   },
   "outputs": [],
   "source": [
    "dsp.stop_intermittent()"
   ]
  },
  {
   "cell_type": "code",
   "execution_count": null,
   "id": "38a0b9d0-9a9a-4bad-8e07-6a0b910b6738",
   "metadata": {
    "tags": []
   },
   "outputs": [],
   "source": [
    "dsp.start_arrows()"
   ]
  },
  {
   "cell_type": "code",
   "execution_count": null,
   "id": "55ea2d03-2832-4a24-ba20-9636c470419d",
   "metadata": {
    "tags": []
   },
   "outputs": [],
   "source": [
    "dsp.stop_arrows()"
   ]
  },
  {
   "cell_type": "code",
   "execution_count": null,
   "id": "e2895e95-fcd6-4684-a9e1-348190d5e546",
   "metadata": {
    "tags": []
   },
   "outputs": [],
   "source": [
    "dsp.start_message(\"hello\")"
   ]
  },
  {
   "cell_type": "code",
   "execution_count": null,
   "id": "d48a9929-41a7-461b-ba54-9296107d4e76",
   "metadata": {
    "tags": []
   },
   "outputs": [],
   "source": [
    "dsp.stop_message()"
   ]
  },
  {
   "cell_type": "code",
   "execution_count": null,
   "id": "a947a2b4-3b58-43b9-b6ba-24f9521978ac",
   "metadata": {},
   "outputs": [],
   "source": []
  }
 ],
 "metadata": {
  "kernelspec": {
   "display_name": "Python 3 (ipykernel)",
   "language": "python",
   "name": "python3"
  },
  "language_info": {
   "codemirror_mode": {
    "name": "ipython",
    "version": 3
   },
   "file_extension": ".py",
   "mimetype": "text/x-python",
   "name": "python",
   "nbconvert_exporter": "python",
   "pygments_lexer": "ipython3",
   "version": "3.11.2"
  }
 },
 "nbformat": 4,
 "nbformat_minor": 5
}
