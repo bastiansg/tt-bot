{
 "cells": [
  {
   "cell_type": "code",
   "execution_count": null,
   "id": "a2658285-4e7f-4f06-8fee-44a06bbbe030",
   "metadata": {
    "tags": []
   },
   "outputs": [],
   "source": [
    "import requests\n",
    "from bs4 import BeautifulSoup"
   ]
  },
  {
   "cell_type": "code",
   "execution_count": null,
   "id": "d2733c0f-71c4-49ab-8322-09cac1efd7bb",
   "metadata": {
    "tags": []
   },
   "outputs": [],
   "source": [
    "url = \"https://www.dolarito.ar\""
   ]
  },
  {
   "cell_type": "code",
   "execution_count": null,
   "id": "03669838-9446-471c-a18a-90d7fa717404",
   "metadata": {
    "tags": []
   },
   "outputs": [],
   "source": [
    "response = requests.get(url)\n",
    "assert response.status_code == 200"
   ]
  },
  {
   "cell_type": "code",
   "execution_count": null,
   "id": "901af396-ca4c-4d0d-b0ef-7d9ab4e99351",
   "metadata": {
    "tags": []
   },
   "outputs": [],
   "source": [
    "soup = BeautifulSoup(\n",
    "    response.content,\n",
    "    features=\"html.parser\"\n",
    ")"
   ]
  },
  {
   "cell_type": "code",
   "execution_count": null,
   "id": "4d239e7e-70b2-4054-b31c-0180999f169e",
   "metadata": {
    "tags": []
   },
   "outputs": [],
   "source": [
    "blue_div = soup.find(\n",
    "    \"div\",\n",
    "    attrs={\n",
    "        \"class\": \"css-c9onyv\"}\n",
    ")"
   ]
  }
 ],
 "metadata": {
  "kernelspec": {
   "display_name": "Python 3 (ipykernel)",
   "language": "python",
   "name": "python3"
  },
  "language_info": {
   "codemirror_mode": {
    "name": "ipython",
    "version": 3
   },
   "file_extension": ".py",
   "mimetype": "text/x-python",
   "name": "python",
   "nbconvert_exporter": "python",
   "pygments_lexer": "ipython3",
   "version": "3.11.2"
  }
 },
 "nbformat": 4,
 "nbformat_minor": 5
}
